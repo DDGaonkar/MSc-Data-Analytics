{
 "cells": [
  {
   "cell_type": "markdown",
   "id": "a11fba5f",
   "metadata": {},
   "source": [
    "# A Comparative Study of Machine Learning Algorithms for Fake News Detection"
   ]
  },
  {
   "cell_type": "markdown",
   "id": "3face352",
   "metadata": {},
   "source": [
    "##### Importing the required libraries"
   ]
  },
  {
   "cell_type": "code",
   "execution_count": 1,
   "id": "0d923a25",
   "metadata": {},
   "outputs": [],
   "source": [
    "import pandas as pd\n",
    "from nltk.corpus import stopwords\n",
    "from nltk.stem.porter import PorterStemmer\n",
    "import re\n",
    "from sklearn.feature_extraction.text import CountVectorizer\n",
    "from sklearn.metrics import precision_score\n",
    "from sklearn.metrics import recall_score\n",
    "from sklearn.metrics import f1_score\n",
    "import matplotlib.pyplot as plt\n",
    "import matplotlib.pyplot as plt1"
   ]
  },
  {
   "cell_type": "markdown",
   "id": "0da01db8",
   "metadata": {},
   "source": [
    "##### Initializing required variables"
   ]
  },
  {
   "cell_type": "code",
   "execution_count": 2,
   "id": "740cbc79",
   "metadata": {},
   "outputs": [],
   "source": [
    "ps = PorterStemmer()\n",
    "stopwords_set = set(stopwords.words('english'))\n",
    "pattern = re.compile('[^a-zA-Z]')\n",
    "stemmed_texts_train = []"
   ]
  },
  {
   "cell_type": "markdown",
   "id": "8278af9e",
   "metadata": {},
   "source": [
    "Below is a function for test stemming. It takes the following arguments as input:\n",
    "\n",
    "    'title': Text to be stemmed\n",
    "    'pattern': A regular expression pattern to be used for removing punctuation and other unwanted characters.\n",
    "    'stopwords_set': A set of stopwords to be removed from the text.\n",
    "    'ps': A PorterStemmer object, which is used to perform stemming.\n",
    "\n",
    "The function first uses the 'pattern' to substitute all punctuation and other unwanted characters with spaces. Then, it converts the text to lowercase and splits it into words. Next, it applies stemming to each word and removes any words that are in the 'stopwords_set'. Finally, it joins the stemmed words back together into a single string and returns it."
   ]
  },
  {
   "cell_type": "code",
   "execution_count": 3,
   "id": "bb43ff10",
   "metadata": {},
   "outputs": [],
   "source": [
    "def text_stemming(title, pattern, stopwords_set, ps):\n",
    "    # using the precompiled pattern above for substitution\n",
    "    title = pattern.sub(' ', title)\n",
    "    # converting to lowercase and splitting into words\n",
    "    words = title.lower().split()\n",
    "    # applying stemming and removing stopwords using the stopwords list\n",
    "    stemmed_words = [ps.stem(word) for word in words if word not in stopwords_set]\n",
    "    # joining the stemmed words back into a single string\n",
    "    stemmed_text = ' '.join(stemmed_words)\n",
    "    \n",
    "    return stemmed_text"
   ]
  },
  {
   "cell_type": "markdown",
   "id": "49a3b8d0",
   "metadata": {},
   "source": [
    "Below is a function for text preprocessing. It takes following argument as input:\n",
    "\n",
    "    'df': A pandas DataFrame containing the text data\n",
    "    \n",
    "The function first drops any rows that contain missing values. Then, it resets the index of the DataFrame so that the rows are numbered consecutively. Next, it drops the index and id columns from the DataFrame. Finally, it iterates through the title column of the DataFrame and applies the text_stemming function to each text. The output of the text_stemming function is appended to a list of stemmed texts.    "
   ]
  },
  {
   "cell_type": "code",
   "execution_count": 4,
   "id": "b6eac8cd",
   "metadata": {},
   "outputs": [],
   "source": [
    "def text_preprocessing(df):\n",
    "    stemmed_texts_train = []\n",
    "    df = df.dropna()\n",
    "    \n",
    "    # After dropping the NA values certains rows are deleted. \n",
    "    # reset_index() method will help to reset the index back to the default numeric index \n",
    "    df.reset_index(inplace = True)\n",
    "    \n",
    "    # dropping the index and id columns\n",
    "    df = df.drop(['index', 'id'], axis = 1)\n",
    "    \n",
    "#     count = 0\n",
    "    for title in df['title']:\n",
    "#         count = count + 1\n",
    "        stemmed_texts_train.append(text_stemming(title, pattern, stopwords_set, ps))\n",
    "        \n",
    "#     print(count)\n",
    "    y = df['label']\n",
    "    return stemmed_texts_train, y, df\n",
    "    "
   ]
  },
  {
   "cell_type": "markdown",
   "id": "3e1f7b69",
   "metadata": {},
   "source": [
    "#### Count Vectorizer"
   ]
  },
  {
   "cell_type": "markdown",
   "id": "d5c277d7",
   "metadata": {},
   "source": [
    "Below code is a function for feature extraction. It takes following arguments as input:\n",
    "    \n",
    "    'PreProcessed_texts': A list of stemmed texts\n",
    "        \n",
    "The function first creates a CountVectorizer object with the following parameters:\n",
    "    \n",
    "    'max_features': The maximum number of features to extract\n",
    "    'ngram_range': The range of n-grams to extract\n",
    "        \n",
    "The CountVectorizer object will then be used to extract features from the stemmed texts. The features are represented as a sparse matrix, where each row represents a text and each column represents a feature.\n",
    "\n",
    "The function returns the CountVectorizer object and the sparse matrix of features."
   ]
  },
  {
   "cell_type": "code",
   "execution_count": 5,
   "id": "e1006618",
   "metadata": {},
   "outputs": [],
   "source": [
    "def feature_extraction(PreProcessed_texts):\n",
    "    cv = CountVectorizer(max_features = 1000, ngram_range = (1, 3))\n",
    "    return cv, cv.fit_transform(PreProcessed_texts).toarray()"
   ]
  },
  {
   "cell_type": "markdown",
   "id": "a0ec28a0",
   "metadata": {},
   "source": [
    "### Importing training dataset"
   ]
  },
  {
   "cell_type": "code",
   "execution_count": 6,
   "id": "a6e4a567",
   "metadata": {},
   "outputs": [],
   "source": [
    "dataset_train = pd.read_csv('C:/Users/Deepanshu/DA/Final Project - DA/datasets/fake-news/train.csv')"
   ]
  },
  {
   "cell_type": "markdown",
   "id": "ee2a1c7f",
   "metadata": {},
   "source": [
    "### Text Preprocessing"
   ]
  },
  {
   "cell_type": "code",
   "execution_count": 7,
   "id": "96130790",
   "metadata": {},
   "outputs": [],
   "source": [
    "PreProcessed_texts, y, df = text_preprocessing(dataset_train)"
   ]
  },
  {
   "cell_type": "markdown",
   "id": "3de688b1",
   "metadata": {},
   "source": [
    "#### Analysing the training dataset"
   ]
  },
  {
   "cell_type": "code",
   "execution_count": 8,
   "id": "55e44977",
   "metadata": {},
   "outputs": [
    {
     "data": {
      "text/plain": [
       "0    10361\n",
       "1     7924\n",
       "Name: label, dtype: int64"
      ]
     },
     "execution_count": 8,
     "metadata": {},
     "output_type": "execute_result"
    }
   ],
   "source": [
    "df.label.value_counts()"
   ]
  },
  {
   "cell_type": "code",
   "execution_count": 9,
   "id": "0ebe5012",
   "metadata": {},
   "outputs": [
    {
     "data": {
      "image/png": "[encoded data removed]",
      "text/plain": [
       "<Figure size 432x288 with 1 Axes>"
      ]
     },
     "metadata": {
      "needs_background": "light"
     },
     "output_type": "display_data"
    }
   ],
   "source": [
    "# Get the number of fake and reliable articles\n",
    "n_fake = len(df[df['label'] == 0])\n",
    "n_reliable = len(df[df['label'] == 1])\n",
    "\n",
    "# Create a bar chart of the number of fake and reliable articles\n",
    "plt.bar(\n",
    "    ['Fake', 'Reliable'],\n",
    "    [n_fake, n_reliable],\n",
    "    color=['red', 'green'],\n",
    "    width=0.4\n",
    ")\n",
    "\n",
    "# Add labels and title\n",
    "plt.xlabel('Label')\n",
    "plt.ylabel('Number of Articles')\n",
    "plt.title('Imbalance in Training Dataset')\n",
    "plt.savefig(\"Imbalance_training.png\")\n",
    "plt.show()"
   ]
  },
  {
   "cell_type": "code",
   "execution_count": null,
   "id": "19802ea9",
   "metadata": {},
   "outputs": [],
   "source": []
  },
  {
   "cell_type": "markdown",
   "id": "2dbb97b5",
   "metadata": {},
   "source": [
    "### Feature Extraction"
   ]
  },
  {
   "cell_type": "code",
   "execution_count": 10,
   "id": "f304f7a4",
   "metadata": {},
   "outputs": [],
   "source": [
    "cv, X = feature_extraction(PreProcessed_texts)"
   ]
  },
  {
   "cell_type": "code",
   "execution_count": 11,
   "id": "e21cf235",
   "metadata": {},
   "outputs": [
    {
     "data": {
      "text/plain": [
       "array(['abedin', 'abort', 'abus', 'access', 'access pipelin', 'account',\n",
       "       'accus', 'act', 'action', 'activ', 'activist', 'ad', 'add',\n",
       "       'address', 'administr', 'admit', 'advis', 'african', 'age',\n",
       "       'agenc'], dtype=object)"
      ]
     },
     "execution_count": 11,
     "metadata": {},
     "output_type": "execute_result"
    }
   ],
   "source": [
    "cv.get_feature_names_out()[:20]"
   ]
  },
  {
   "cell_type": "code",
   "execution_count": 12,
   "id": "ecc207da",
   "metadata": {},
   "outputs": [
    {
     "data": {
      "text/html": [
       "<div>\n",
       "<style scoped>\n",
       "    .dataframe tbody tr th:only-of-type {\n",
       "        vertical-align: middle;\n",
       "    }\n",
       "\n",
       "    .dataframe tbody tr th {\n",
       "        vertical-align: top;\n",
       "    }\n",
       "\n",
       "    .dataframe thead th {\n",
       "        text-align: right;\n",
       "    }\n",
       "</style>\n",
       "<table border=\"1\" class=\"dataframe\">\n",
       "  <thead>\n",
       "    <tr style=\"text-align: right;\">\n",
       "      <th></th>\n",
       "      <th>abedin</th>\n",
       "      <th>abort</th>\n",
       "      <th>abus</th>\n",
       "      <th>access</th>\n",
       "      <th>access pipelin</th>\n",
       "      <th>account</th>\n",
       "      <th>accus</th>\n",
       "      <th>act</th>\n",
       "      <th>action</th>\n",
       "      <th>activ</th>\n",
       "      <th>...</th>\n",
       "      <th>wrong</th>\n",
       "      <th>year</th>\n",
       "      <th>year new</th>\n",
       "      <th>year old</th>\n",
       "      <th>yemen</th>\n",
       "      <th>york</th>\n",
       "      <th>york time</th>\n",
       "      <th>young</th>\n",
       "      <th>zika</th>\n",
       "      <th>zone</th>\n",
       "    </tr>\n",
       "  </thead>\n",
       "  <tbody>\n",
       "    <tr>\n",
       "      <th>0</th>\n",
       "      <td>0</td>\n",
       "      <td>0</td>\n",
       "      <td>0</td>\n",
       "      <td>0</td>\n",
       "      <td>0</td>\n",
       "      <td>0</td>\n",
       "      <td>0</td>\n",
       "      <td>0</td>\n",
       "      <td>0</td>\n",
       "      <td>0</td>\n",
       "      <td>...</td>\n",
       "      <td>0</td>\n",
       "      <td>0</td>\n",
       "      <td>0</td>\n",
       "      <td>0</td>\n",
       "      <td>0</td>\n",
       "      <td>0</td>\n",
       "      <td>0</td>\n",
       "      <td>0</td>\n",
       "      <td>0</td>\n",
       "      <td>0</td>\n",
       "    </tr>\n",
       "    <tr>\n",
       "      <th>1</th>\n",
       "      <td>0</td>\n",
       "      <td>0</td>\n",
       "      <td>0</td>\n",
       "      <td>0</td>\n",
       "      <td>0</td>\n",
       "      <td>0</td>\n",
       "      <td>0</td>\n",
       "      <td>0</td>\n",
       "      <td>0</td>\n",
       "      <td>0</td>\n",
       "      <td>...</td>\n",
       "      <td>0</td>\n",
       "      <td>0</td>\n",
       "      <td>0</td>\n",
       "      <td>0</td>\n",
       "      <td>0</td>\n",
       "      <td>0</td>\n",
       "      <td>0</td>\n",
       "      <td>0</td>\n",
       "      <td>0</td>\n",
       "      <td>0</td>\n",
       "    </tr>\n",
       "    <tr>\n",
       "      <th>2</th>\n",
       "      <td>0</td>\n",
       "      <td>0</td>\n",
       "      <td>0</td>\n",
       "      <td>0</td>\n",
       "      <td>0</td>\n",
       "      <td>0</td>\n",
       "      <td>0</td>\n",
       "      <td>0</td>\n",
       "      <td>0</td>\n",
       "      <td>0</td>\n",
       "      <td>...</td>\n",
       "      <td>0</td>\n",
       "      <td>0</td>\n",
       "      <td>0</td>\n",
       "      <td>0</td>\n",
       "      <td>0</td>\n",
       "      <td>0</td>\n",
       "      <td>0</td>\n",
       "      <td>0</td>\n",
       "      <td>0</td>\n",
       "      <td>0</td>\n",
       "    </tr>\n",
       "    <tr>\n",
       "      <th>3</th>\n",
       "      <td>0</td>\n",
       "      <td>0</td>\n",
       "      <td>0</td>\n",
       "      <td>0</td>\n",
       "      <td>0</td>\n",
       "      <td>0</td>\n",
       "      <td>0</td>\n",
       "      <td>0</td>\n",
       "      <td>0</td>\n",
       "      <td>0</td>\n",
       "      <td>...</td>\n",
       "      <td>0</td>\n",
       "      <td>0</td>\n",
       "      <td>0</td>\n",
       "      <td>0</td>\n",
       "      <td>0</td>\n",
       "      <td>0</td>\n",
       "      <td>0</td>\n",
       "      <td>0</td>\n",
       "      <td>0</td>\n",
       "      <td>0</td>\n",
       "    </tr>\n",
       "    <tr>\n",
       "      <th>4</th>\n",
       "      <td>0</td>\n",
       "      <td>0</td>\n",
       "      <td>0</td>\n",
       "      <td>0</td>\n",
       "      <td>0</td>\n",
       "      <td>0</td>\n",
       "      <td>0</td>\n",
       "      <td>0</td>\n",
       "      <td>0</td>\n",
       "      <td>0</td>\n",
       "      <td>...</td>\n",
       "      <td>0</td>\n",
       "      <td>0</td>\n",
       "      <td>0</td>\n",
       "      <td>0</td>\n",
       "      <td>0</td>\n",
       "      <td>0</td>\n",
       "      <td>0</td>\n",
       "      <td>0</td>\n",
       "      <td>0</td>\n",
       "      <td>0</td>\n",
       "    </tr>\n",
       "    <tr>\n",
       "      <th>...</th>\n",
       "      <td>...</td>\n",
       "      <td>...</td>\n",
       "      <td>...</td>\n",
       "      <td>...</td>\n",
       "      <td>...</td>\n",
       "      <td>...</td>\n",
       "      <td>...</td>\n",
       "      <td>...</td>\n",
       "      <td>...</td>\n",
       "      <td>...</td>\n",
       "      <td>...</td>\n",
       "      <td>...</td>\n",
       "      <td>...</td>\n",
       "      <td>...</td>\n",
       "      <td>...</td>\n",
       "      <td>...</td>\n",
       "      <td>...</td>\n",
       "      <td>...</td>\n",
       "      <td>...</td>\n",
       "      <td>...</td>\n",
       "      <td>...</td>\n",
       "    </tr>\n",
       "    <tr>\n",
       "      <th>18280</th>\n",
       "      <td>0</td>\n",
       "      <td>0</td>\n",
       "      <td>0</td>\n",
       "      <td>0</td>\n",
       "      <td>0</td>\n",
       "      <td>0</td>\n",
       "      <td>0</td>\n",
       "      <td>0</td>\n",
       "      <td>0</td>\n",
       "      <td>0</td>\n",
       "      <td>...</td>\n",
       "      <td>0</td>\n",
       "      <td>0</td>\n",
       "      <td>0</td>\n",
       "      <td>0</td>\n",
       "      <td>0</td>\n",
       "      <td>0</td>\n",
       "      <td>0</td>\n",
       "      <td>0</td>\n",
       "      <td>0</td>\n",
       "      <td>0</td>\n",
       "    </tr>\n",
       "    <tr>\n",
       "      <th>18281</th>\n",
       "      <td>0</td>\n",
       "      <td>0</td>\n",
       "      <td>0</td>\n",
       "      <td>0</td>\n",
       "      <td>0</td>\n",
       "      <td>0</td>\n",
       "      <td>0</td>\n",
       "      <td>0</td>\n",
       "      <td>0</td>\n",
       "      <td>0</td>\n",
       "      <td>...</td>\n",
       "      <td>0</td>\n",
       "      <td>0</td>\n",
       "      <td>0</td>\n",
       "      <td>0</td>\n",
       "      <td>0</td>\n",
       "      <td>1</td>\n",
       "      <td>1</td>\n",
       "      <td>0</td>\n",
       "      <td>0</td>\n",
       "      <td>0</td>\n",
       "    </tr>\n",
       "    <tr>\n",
       "      <th>18282</th>\n",
       "      <td>0</td>\n",
       "      <td>0</td>\n",
       "      <td>0</td>\n",
       "      <td>0</td>\n",
       "      <td>0</td>\n",
       "      <td>0</td>\n",
       "      <td>0</td>\n",
       "      <td>0</td>\n",
       "      <td>0</td>\n",
       "      <td>0</td>\n",
       "      <td>...</td>\n",
       "      <td>0</td>\n",
       "      <td>0</td>\n",
       "      <td>0</td>\n",
       "      <td>0</td>\n",
       "      <td>0</td>\n",
       "      <td>1</td>\n",
       "      <td>1</td>\n",
       "      <td>0</td>\n",
       "      <td>0</td>\n",
       "      <td>0</td>\n",
       "    </tr>\n",
       "    <tr>\n",
       "      <th>18283</th>\n",
       "      <td>0</td>\n",
       "      <td>0</td>\n",
       "      <td>0</td>\n",
       "      <td>0</td>\n",
       "      <td>0</td>\n",
       "      <td>0</td>\n",
       "      <td>0</td>\n",
       "      <td>0</td>\n",
       "      <td>0</td>\n",
       "      <td>0</td>\n",
       "      <td>...</td>\n",
       "      <td>0</td>\n",
       "      <td>0</td>\n",
       "      <td>0</td>\n",
       "      <td>0</td>\n",
       "      <td>0</td>\n",
       "      <td>0</td>\n",
       "      <td>0</td>\n",
       "      <td>0</td>\n",
       "      <td>0</td>\n",
       "      <td>0</td>\n",
       "    </tr>\n",
       "    <tr>\n",
       "      <th>18284</th>\n",
       "      <td>0</td>\n",
       "      <td>0</td>\n",
       "      <td>0</td>\n",
       "      <td>0</td>\n",
       "      <td>0</td>\n",
       "      <td>0</td>\n",
       "      <td>0</td>\n",
       "      <td>0</td>\n",
       "      <td>0</td>\n",
       "      <td>0</td>\n",
       "      <td>...</td>\n",
       "      <td>0</td>\n",
       "      <td>0</td>\n",
       "      <td>0</td>\n",
       "      <td>0</td>\n",
       "      <td>0</td>\n",
       "      <td>0</td>\n",
       "      <td>0</td>\n",
       "      <td>0</td>\n",
       "      <td>0</td>\n",
       "      <td>0</td>\n",
       "    </tr>\n",
       "  </tbody>\n",
       "</table>\n",
       "<p>18285 rows × 1000 columns</p>\n",
       "</div>"
      ],
      "text/plain": [
       "       abedin  abort  abus  access  access pipelin  account  accus  act  \\\n",
       "0           0      0     0       0               0        0      0    0   \n",
       "1           0      0     0       0               0        0      0    0   \n",
       "2           0      0     0       0               0        0      0    0   \n",
       "3           0      0     0       0               0        0      0    0   \n",
       "4           0      0     0       0               0        0      0    0   \n",
       "...       ...    ...   ...     ...             ...      ...    ...  ...   \n",
       "18280       0      0     0       0               0        0      0    0   \n",
       "18281       0      0     0       0               0        0      0    0   \n",
       "18282       0      0     0       0               0        0      0    0   \n",
       "18283       0      0     0       0               0        0      0    0   \n",
       "18284       0      0     0       0               0        0      0    0   \n",
       "\n",
       "       action  activ  ...  wrong  year  year new  year old  yemen  york  \\\n",
       "0           0      0  ...      0     0         0         0      0     0   \n",
       "1           0      0  ...      0     0         0         0      0     0   \n",
       "2           0      0  ...      0     0         0         0      0     0   \n",
       "3           0      0  ...      0     0         0         0      0     0   \n",
       "4           0      0  ...      0     0         0         0      0     0   \n",
       "...       ...    ...  ...    ...   ...       ...       ...    ...   ...   \n",
       "18280       0      0  ...      0     0         0         0      0     0   \n",
       "18281       0      0  ...      0     0         0         0      0     1   \n",
       "18282       0      0  ...      0     0         0         0      0     1   \n",
       "18283       0      0  ...      0     0         0         0      0     0   \n",
       "18284       0      0  ...      0     0         0         0      0     0   \n",
       "\n",
       "       york time  young  zika  zone  \n",
       "0              0      0     0     0  \n",
       "1              0      0     0     0  \n",
       "2              0      0     0     0  \n",
       "3              0      0     0     0  \n",
       "4              0      0     0     0  \n",
       "...          ...    ...   ...   ...  \n",
       "18280          0      0     0     0  \n",
       "18281          1      0     0     0  \n",
       "18282          1      0     0     0  \n",
       "18283          0      0     0     0  \n",
       "18284          0      0     0     0  \n",
       "\n",
       "[18285 rows x 1000 columns]"
      ]
     },
     "execution_count": 12,
     "metadata": {},
     "output_type": "execute_result"
    }
   ],
   "source": [
    "dataframe_train = pd.DataFrame(X, columns = cv.get_feature_names_out())\n",
    "dataframe_train"
   ]
  },
  {
   "cell_type": "markdown",
   "id": "8dc7545a",
   "metadata": {},
   "source": [
    "### Splitting dataset into train set and validation set"
   ]
  },
  {
   "cell_type": "code",
   "execution_count": 13,
   "id": "4f35519d",
   "metadata": {},
   "outputs": [],
   "source": [
    "from sklearn.model_selection import train_test_split"
   ]
  },
  {
   "cell_type": "code",
   "execution_count": 14,
   "id": "4f334812",
   "metadata": {},
   "outputs": [],
   "source": [
    "X_train, X_val, y_train, y_val = train_test_split(X, y, test_size = 0.30, random_state = 0, stratify = y)"
   ]
  },
  {
   "cell_type": "code",
   "execution_count": null,
   "id": "5e806840",
   "metadata": {},
   "outputs": [],
   "source": []
  },
  {
   "cell_type": "markdown",
   "id": "50d6977a",
   "metadata": {},
   "source": [
    "### Implementing different algorithms"
   ]
  },
  {
   "cell_type": "markdown",
   "id": "cd78ffc7",
   "metadata": {},
   "source": [
    "#### Passive Aggressive Classifier algorithm"
   ]
  },
  {
   "cell_type": "code",
   "execution_count": 15,
   "id": "a78c946f",
   "metadata": {},
   "outputs": [],
   "source": [
    "from sklearn.linear_model import PassiveAggressiveClassifier"
   ]
  },
  {
   "cell_type": "code",
   "execution_count": 16,
   "id": "ca0c0016",
   "metadata": {},
   "outputs": [],
   "source": [
    "PAC = PassiveAggressiveClassifier(max_iter = 50)"
   ]
  },
  {
   "cell_type": "code",
   "execution_count": 17,
   "id": "4afab10c",
   "metadata": {},
   "outputs": [],
   "source": [
    "PAC.fit(X_train, y_train)\n",
    "y_pred_pac = PAC.predict(X_val)"
   ]
  },
  {
   "cell_type": "markdown",
   "id": "bb7212e3",
   "metadata": {},
   "source": [
    "#### Support Vector Machine"
   ]
  },
  {
   "cell_type": "code",
   "execution_count": 18,
   "id": "c8b8da50",
   "metadata": {},
   "outputs": [],
   "source": [
    "from sklearn.svm import LinearSVC"
   ]
  },
  {
   "cell_type": "code",
   "execution_count": 19,
   "id": "27c58bc4",
   "metadata": {},
   "outputs": [],
   "source": [
    "SVM = LinearSVC()"
   ]
  },
  {
   "cell_type": "code",
   "execution_count": 20,
   "id": "40449020",
   "metadata": {},
   "outputs": [],
   "source": [
    "SVM.fit(X_train, y_train)\n",
    "y_pred_svm = SVM.predict(X_val)"
   ]
  },
  {
   "cell_type": "markdown",
   "id": "57961d02",
   "metadata": {},
   "source": [
    "#### MultinomialNB Algorithm"
   ]
  },
  {
   "cell_type": "code",
   "execution_count": 21,
   "id": "ae8c600d",
   "metadata": {},
   "outputs": [],
   "source": [
    "from sklearn.naive_bayes import MultinomialNB"
   ]
  },
  {
   "cell_type": "code",
   "execution_count": 22,
   "id": "01b0f91d",
   "metadata": {},
   "outputs": [],
   "source": [
    "MNB = MultinomialNB()"
   ]
  },
  {
   "cell_type": "code",
   "execution_count": 23,
   "id": "e8b64d64",
   "metadata": {},
   "outputs": [],
   "source": [
    "MNB.fit(X_train, y_train)\n",
    "y_pred_mnb = MNB.predict(X_val)"
   ]
  },
  {
   "cell_type": "markdown",
   "id": "2867589e",
   "metadata": {},
   "source": [
    "### Calculating Accuracy for validation set"
   ]
  },
  {
   "cell_type": "code",
   "execution_count": 24,
   "id": "3463c0c9",
   "metadata": {},
   "outputs": [],
   "source": [
    "from sklearn.metrics import accuracy_score"
   ]
  },
  {
   "cell_type": "code",
   "execution_count": 25,
   "id": "187afac3",
   "metadata": {},
   "outputs": [
    {
     "name": "stdout",
     "output_type": "stream",
     "text": [
      "Accuracy:  0.8971928545388261\n",
      "Accuracy:  0.9214363835216915\n",
      "Accuracy:  0.8827925628873496\n"
     ]
    }
   ],
   "source": [
    "accuracy_pac = accuracy_score(y_val, y_pred_pac)\n",
    "print(\"Accuracy: \", accuracy_pac)\n",
    "accuracy_svm = accuracy_score(y_val, y_pred_svm)\n",
    "print(\"Accuracy: \", accuracy_svm)\n",
    "accuracy_mnb = accuracy_score(y_val, y_pred_mnb)\n",
    "print(\"Accuracy: \", accuracy_mnb)"
   ]
  },
  {
   "cell_type": "code",
   "execution_count": 26,
   "id": "976dd310",
   "metadata": {},
   "outputs": [],
   "source": [
    "# scores for Passive Aggressive Classifier\n",
    "accuracy_pac = accuracy_score(y_val, y_pred_pac)\n",
    "precision_pac = precision_score(y_val, y_pred_pac)\n",
    "recall_pac = recall_score(y_val, y_pred_pac)\n",
    "f1_score_pac = f1_score(y_val, y_pred_pac)\n",
    "\n",
    "# scores for Support Vector Machine\n",
    "accuracy_svm = accuracy_score(y_val, y_pred_svm)\n",
    "precision_svm = precision_score(y_val, y_pred_svm)\n",
    "recall_svm = recall_score(y_val, y_pred_svm)\n",
    "f1_score_svm = f1_score(y_val, y_pred_svm)\n",
    "\n",
    "# scores for MultinomialNB\n",
    "accuracy_mnb = accuracy_score(y_val, y_pred_mnb)\n",
    "precision_mnb = precision_score(y_val, y_pred_mnb)\n",
    "recall_mnb = recall_score(y_val, y_pred_mnb)\n",
    "f1_score_mnb = f1_score(y_val, y_pred_mnb)"
   ]
  },
  {
   "cell_type": "code",
   "execution_count": 27,
   "id": "ecc8fa64",
   "metadata": {},
   "outputs": [],
   "source": [
    "# Create a dataframe to store the scores\n",
    "scores = pd.DataFrame({\n",
    "    'Algorithm': ['PassiveAggressiveClassifier', 'LinearSVC', 'MultinomialNB'],\n",
    "    'Accuracy': [accuracy_pac, accuracy_svm, accuracy_mnb],\n",
    "    'Precision': [precision_pac, precision_svm, precision_mnb],\n",
    "    'Recall': [recall_pac, recall_svm, recall_mnb],\n",
    "    'F1-score': [f1_score_pac, f1_score_svm, f1_score_mnb]\n",
    "})"
   ]
  },
  {
   "cell_type": "code",
   "execution_count": 28,
   "id": "12ad2fed",
   "metadata": {},
   "outputs": [
    {
     "data": {
      "text/html": [
       "<div>\n",
       "<style scoped>\n",
       "    .dataframe tbody tr th:only-of-type {\n",
       "        vertical-align: middle;\n",
       "    }\n",
       "\n",
       "    .dataframe tbody tr th {\n",
       "        vertical-align: top;\n",
       "    }\n",
       "\n",
       "    .dataframe thead th {\n",
       "        text-align: right;\n",
       "    }\n",
       "</style>\n",
       "<table border=\"1\" class=\"dataframe\">\n",
       "  <thead>\n",
       "    <tr style=\"text-align: right;\">\n",
       "      <th></th>\n",
       "      <th>Algorithm</th>\n",
       "      <th>Accuracy</th>\n",
       "      <th>Precision</th>\n",
       "      <th>Recall</th>\n",
       "      <th>F1-score</th>\n",
       "    </tr>\n",
       "  </thead>\n",
       "  <tbody>\n",
       "    <tr>\n",
       "      <th>0</th>\n",
       "      <td>PassiveAggressiveClassifier</td>\n",
       "      <td>0.897193</td>\n",
       "      <td>0.903427</td>\n",
       "      <td>0.854018</td>\n",
       "      <td>0.878028</td>\n",
       "    </tr>\n",
       "    <tr>\n",
       "      <th>1</th>\n",
       "      <td>LinearSVC</td>\n",
       "      <td>0.921436</td>\n",
       "      <td>0.884889</td>\n",
       "      <td>0.941102</td>\n",
       "      <td>0.912130</td>\n",
       "    </tr>\n",
       "    <tr>\n",
       "      <th>2</th>\n",
       "      <td>MultinomialNB</td>\n",
       "      <td>0.882793</td>\n",
       "      <td>0.835267</td>\n",
       "      <td>0.908708</td>\n",
       "      <td>0.870441</td>\n",
       "    </tr>\n",
       "  </tbody>\n",
       "</table>\n",
       "</div>"
      ],
      "text/plain": [
       "                     Algorithm  Accuracy  Precision    Recall  F1-score\n",
       "0  PassiveAggressiveClassifier  0.897193   0.903427  0.854018  0.878028\n",
       "1                    LinearSVC  0.921436   0.884889  0.941102  0.912130\n",
       "2                MultinomialNB  0.882793   0.835267  0.908708  0.870441"
      ]
     },
     "execution_count": 28,
     "metadata": {},
     "output_type": "execute_result"
    }
   ],
   "source": [
    "scores"
   ]
  },
  {
   "cell_type": "code",
   "execution_count": 29,
   "id": "38004da6",
   "metadata": {},
   "outputs": [
    {
     "data": {
      "image/png": "[encoded data removed]",
      "text/plain": [
       "<Figure size 432x288 with 1 Axes>"
      ]
     },
     "metadata": {
      "needs_background": "light"
     },
     "output_type": "display_data"
    }
   ],
   "source": [
    "# Plot the scores\n",
    "plt.figure()\n",
    "plt.plot(scores['Algorithm'], scores['Accuracy'], label='Accuracy')\n",
    "plt.plot(scores['Algorithm'], scores['Precision'], label='Precision')\n",
    "plt.plot(scores['Algorithm'], scores['Recall'], label='Recall')\n",
    "plt.plot(scores['Algorithm'], scores['F1-score'], label='F1-score')\n",
    "plt.legend();\n",
    "plt.savefig(\"performance_validationset.png\")\n",
    "plt.show()"
   ]
  },
  {
   "cell_type": "markdown",
   "id": "a4aff819",
   "metadata": {},
   "source": [
    "### Preparing test dataset"
   ]
  },
  {
   "cell_type": "code",
   "execution_count": 30,
   "id": "4290a2b7",
   "metadata": {},
   "outputs": [],
   "source": [
    "dataset_test = pd.read_csv('C:/Users/Deepanshu/DA/Final Project - DA/datasets/fake-news/test.csv')"
   ]
  },
  {
   "cell_type": "code",
   "execution_count": 31,
   "id": "11460548",
   "metadata": {},
   "outputs": [],
   "source": [
    "dataset_submit = pd.read_csv('C:/Users/Deepanshu/DA/Final Project - DA/datasets/fake-news/submit.csv')"
   ]
  },
  {
   "cell_type": "code",
   "execution_count": 32,
   "id": "a1a045c3",
   "metadata": {},
   "outputs": [],
   "source": [
    "df_test = pd.DataFrame(dataset_test)"
   ]
  },
  {
   "cell_type": "code",
   "execution_count": 33,
   "id": "703f054f",
   "metadata": {},
   "outputs": [],
   "source": [
    "df_submit = pd.DataFrame(dataset_submit)"
   ]
  },
  {
   "cell_type": "code",
   "execution_count": 34,
   "id": "8ad374b1",
   "metadata": {},
   "outputs": [],
   "source": [
    "dataset_test = pd.merge(df_test, df_submit)"
   ]
  },
  {
   "cell_type": "code",
   "execution_count": 35,
   "id": "7ad35d7c",
   "metadata": {},
   "outputs": [
    {
     "data": {
      "text/html": [
       "<div>\n",
       "<style scoped>\n",
       "    .dataframe tbody tr th:only-of-type {\n",
       "        vertical-align: middle;\n",
       "    }\n",
       "\n",
       "    .dataframe tbody tr th {\n",
       "        vertical-align: top;\n",
       "    }\n",
       "\n",
       "    .dataframe thead th {\n",
       "        text-align: right;\n",
       "    }\n",
       "</style>\n",
       "<table border=\"1\" class=\"dataframe\">\n",
       "  <thead>\n",
       "    <tr style=\"text-align: right;\">\n",
       "      <th></th>\n",
       "      <th>id</th>\n",
       "      <th>title</th>\n",
       "      <th>author</th>\n",
       "      <th>text</th>\n",
       "      <th>label</th>\n",
       "    </tr>\n",
       "  </thead>\n",
       "  <tbody>\n",
       "    <tr>\n",
       "      <th>0</th>\n",
       "      <td>20800</td>\n",
       "      <td>Specter of Trump Loosens Tongues, if Not Purse...</td>\n",
       "      <td>David Streitfeld</td>\n",
       "      <td>PALO ALTO, Calif.  —   After years of scorning...</td>\n",
       "      <td>0</td>\n",
       "    </tr>\n",
       "    <tr>\n",
       "      <th>1</th>\n",
       "      <td>20801</td>\n",
       "      <td>Russian warships ready to strike terrorists ne...</td>\n",
       "      <td>NaN</td>\n",
       "      <td>Russian warships ready to strike terrorists ne...</td>\n",
       "      <td>1</td>\n",
       "    </tr>\n",
       "    <tr>\n",
       "      <th>2</th>\n",
       "      <td>20802</td>\n",
       "      <td>#NoDAPL: Native American Leaders Vow to Stay A...</td>\n",
       "      <td>Common Dreams</td>\n",
       "      <td>Videos #NoDAPL: Native American Leaders Vow to...</td>\n",
       "      <td>0</td>\n",
       "    </tr>\n",
       "    <tr>\n",
       "      <th>3</th>\n",
       "      <td>20803</td>\n",
       "      <td>Tim Tebow Will Attempt Another Comeback, This ...</td>\n",
       "      <td>Daniel Victor</td>\n",
       "      <td>If at first you don’t succeed, try a different...</td>\n",
       "      <td>1</td>\n",
       "    </tr>\n",
       "    <tr>\n",
       "      <th>4</th>\n",
       "      <td>20804</td>\n",
       "      <td>Keiser Report: Meme Wars (E995)</td>\n",
       "      <td>Truth Broadcast Network</td>\n",
       "      <td>42 mins ago 1 Views 0 Comments 0 Likes 'For th...</td>\n",
       "      <td>1</td>\n",
       "    </tr>\n",
       "    <tr>\n",
       "      <th>...</th>\n",
       "      <td>...</td>\n",
       "      <td>...</td>\n",
       "      <td>...</td>\n",
       "      <td>...</td>\n",
       "      <td>...</td>\n",
       "    </tr>\n",
       "    <tr>\n",
       "      <th>5195</th>\n",
       "      <td>25995</td>\n",
       "      <td>The Bangladeshi Traffic Jam That Never Ends - ...</td>\n",
       "      <td>Jody Rosen</td>\n",
       "      <td>Of all the dysfunctions that plague the world’...</td>\n",
       "      <td>0</td>\n",
       "    </tr>\n",
       "    <tr>\n",
       "      <th>5196</th>\n",
       "      <td>25996</td>\n",
       "      <td>John Kasich Signs One Abortion Bill in Ohio bu...</td>\n",
       "      <td>Sheryl Gay Stolberg</td>\n",
       "      <td>WASHINGTON  —   Gov. John Kasich of Ohio on Tu...</td>\n",
       "      <td>1</td>\n",
       "    </tr>\n",
       "    <tr>\n",
       "      <th>5197</th>\n",
       "      <td>25997</td>\n",
       "      <td>California Today: What, Exactly, Is in Your Su...</td>\n",
       "      <td>Mike McPhate</td>\n",
       "      <td>Good morning. (Want to get California Today by...</td>\n",
       "      <td>0</td>\n",
       "    </tr>\n",
       "    <tr>\n",
       "      <th>5198</th>\n",
       "      <td>25998</td>\n",
       "      <td>300 US Marines To Be Deployed To Russian Borde...</td>\n",
       "      <td>NaN</td>\n",
       "      <td>« Previous - Next » 300 US Marines To Be Deplo...</td>\n",
       "      <td>1</td>\n",
       "    </tr>\n",
       "    <tr>\n",
       "      <th>5199</th>\n",
       "      <td>25999</td>\n",
       "      <td>Awkward Sex, Onscreen and Off - The New York T...</td>\n",
       "      <td>Teddy Wayne</td>\n",
       "      <td>Perhaps you’ve seen the new TV series whose pi...</td>\n",
       "      <td>0</td>\n",
       "    </tr>\n",
       "  </tbody>\n",
       "</table>\n",
       "<p>5200 rows × 5 columns</p>\n",
       "</div>"
      ],
      "text/plain": [
       "         id                                              title  \\\n",
       "0     20800  Specter of Trump Loosens Tongues, if Not Purse...   \n",
       "1     20801  Russian warships ready to strike terrorists ne...   \n",
       "2     20802  #NoDAPL: Native American Leaders Vow to Stay A...   \n",
       "3     20803  Tim Tebow Will Attempt Another Comeback, This ...   \n",
       "4     20804                    Keiser Report: Meme Wars (E995)   \n",
       "...     ...                                                ...   \n",
       "5195  25995  The Bangladeshi Traffic Jam That Never Ends - ...   \n",
       "5196  25996  John Kasich Signs One Abortion Bill in Ohio bu...   \n",
       "5197  25997  California Today: What, Exactly, Is in Your Su...   \n",
       "5198  25998  300 US Marines To Be Deployed To Russian Borde...   \n",
       "5199  25999  Awkward Sex, Onscreen and Off - The New York T...   \n",
       "\n",
       "                       author  \\\n",
       "0            David Streitfeld   \n",
       "1                         NaN   \n",
       "2               Common Dreams   \n",
       "3               Daniel Victor   \n",
       "4     Truth Broadcast Network   \n",
       "...                       ...   \n",
       "5195               Jody Rosen   \n",
       "5196      Sheryl Gay Stolberg   \n",
       "5197             Mike McPhate   \n",
       "5198                      NaN   \n",
       "5199              Teddy Wayne   \n",
       "\n",
       "                                                   text  label  \n",
       "0     PALO ALTO, Calif.  —   After years of scorning...      0  \n",
       "1     Russian warships ready to strike terrorists ne...      1  \n",
       "2     Videos #NoDAPL: Native American Leaders Vow to...      0  \n",
       "3     If at first you don’t succeed, try a different...      1  \n",
       "4     42 mins ago 1 Views 0 Comments 0 Likes 'For th...      1  \n",
       "...                                                 ...    ...  \n",
       "5195  Of all the dysfunctions that plague the world’...      0  \n",
       "5196  WASHINGTON  —   Gov. John Kasich of Ohio on Tu...      1  \n",
       "5197  Good morning. (Want to get California Today by...      0  \n",
       "5198  « Previous - Next » 300 US Marines To Be Deplo...      1  \n",
       "5199  Perhaps you’ve seen the new TV series whose pi...      0  \n",
       "\n",
       "[5200 rows x 5 columns]"
      ]
     },
     "execution_count": 35,
     "metadata": {},
     "output_type": "execute_result"
    }
   ],
   "source": [
    "dataset_test"
   ]
  },
  {
   "cell_type": "markdown",
   "id": "9939914c",
   "metadata": {},
   "source": [
    "### Preprocessing test dataset"
   ]
  },
  {
   "cell_type": "code",
   "execution_count": 36,
   "id": "570be77b",
   "metadata": {},
   "outputs": [],
   "source": [
    "PreProcessed_texts, y_test, df_test = text_preprocessing(dataset_test)"
   ]
  },
  {
   "cell_type": "markdown",
   "id": "34770aec",
   "metadata": {},
   "source": [
    "#### Analysing the testing dataset"
   ]
  },
  {
   "cell_type": "code",
   "execution_count": 37,
   "id": "a7176ab5",
   "metadata": {},
   "outputs": [
    {
     "data": {
      "text/plain": [
       "1    2362\n",
       "0    2213\n",
       "Name: label, dtype: int64"
      ]
     },
     "execution_count": 37,
     "metadata": {},
     "output_type": "execute_result"
    }
   ],
   "source": [
    "df_test.label.value_counts()"
   ]
  },
  {
   "cell_type": "code",
   "execution_count": 38,
   "id": "5ac28b52",
   "metadata": {},
   "outputs": [
    {
     "data": {
      "image/png": "[encoded data removed]",
      "text/plain": [
       "<Figure size 432x288 with 1 Axes>"
      ]
     },
     "metadata": {
      "needs_background": "light"
     },
     "output_type": "display_data"
    }
   ],
   "source": [
    "# Get the number of fake and reliable articles\n",
    "n_fake = len(df_test[df_test['label'] == 0])\n",
    "n_reliable = len(df_test[df_test['label'] == 1])\n",
    "\n",
    "# Create a bar chart of the number of fake and reliable articles\n",
    "plt.bar(\n",
    "    ['Fake', 'Reliable'],\n",
    "    [n_fake, n_reliable],\n",
    "    color=['red', 'green'],\n",
    "    width=0.4\n",
    ")\n",
    "\n",
    "# Add labels and title\n",
    "plt.xlabel('Label')\n",
    "plt.ylabel('Number of Articles')\n",
    "plt.title('Imbalance in Testing Dataset')\n",
    "plt.savefig(\"imbalance_testing.png\")\n",
    "plt.show()"
   ]
  },
  {
   "cell_type": "markdown",
   "id": "89b0a9e4",
   "metadata": {},
   "source": [
    "### Feature Extraction on test dataset"
   ]
  },
  {
   "cell_type": "code",
   "execution_count": 39,
   "id": "d03f4b46",
   "metadata": {},
   "outputs": [],
   "source": [
    "cv, X_test = feature_extraction(PreProcessed_texts) "
   ]
  },
  {
   "cell_type": "code",
   "execution_count": 40,
   "id": "cf45e82b",
   "metadata": {},
   "outputs": [
    {
     "data": {
      "text/plain": [
       "array(['abort', 'abus', 'accept', 'access', 'account', 'accus', 'across',\n",
       "       'act', 'action', 'activ', 'activist', 'actual', 'ad', 'administr',\n",
       "       'admit', 'advanc', 'afghan', 'age', 'agenc', 'agenda'],\n",
       "      dtype=object)"
      ]
     },
     "execution_count": 40,
     "metadata": {},
     "output_type": "execute_result"
    }
   ],
   "source": [
    "cv.get_feature_names_out()[:20]"
   ]
  },
  {
   "cell_type": "code",
   "execution_count": 41,
   "id": "a9939d2d",
   "metadata": {},
   "outputs": [],
   "source": [
    "dataframe_test = pd.DataFrame(X_test, columns = cv.get_feature_names_out())"
   ]
  },
  {
   "cell_type": "code",
   "execution_count": 42,
   "id": "3eeaac9f",
   "metadata": {},
   "outputs": [
    {
     "data": {
      "text/html": [
       "<div>\n",
       "<style scoped>\n",
       "    .dataframe tbody tr th:only-of-type {\n",
       "        vertical-align: middle;\n",
       "    }\n",
       "\n",
       "    .dataframe tbody tr th {\n",
       "        vertical-align: top;\n",
       "    }\n",
       "\n",
       "    .dataframe thead th {\n",
       "        text-align: right;\n",
       "    }\n",
       "</style>\n",
       "<table border=\"1\" class=\"dataframe\">\n",
       "  <thead>\n",
       "    <tr style=\"text-align: right;\">\n",
       "      <th></th>\n",
       "      <th>abort</th>\n",
       "      <th>abus</th>\n",
       "      <th>accept</th>\n",
       "      <th>access</th>\n",
       "      <th>account</th>\n",
       "      <th>accus</th>\n",
       "      <th>across</th>\n",
       "      <th>act</th>\n",
       "      <th>action</th>\n",
       "      <th>activ</th>\n",
       "      <th>...</th>\n",
       "      <th>writer</th>\n",
       "      <th>wrong</th>\n",
       "      <th>year</th>\n",
       "      <th>year old</th>\n",
       "      <th>yemen</th>\n",
       "      <th>york</th>\n",
       "      <th>york time</th>\n",
       "      <th>young</th>\n",
       "      <th>youtub</th>\n",
       "      <th>zika</th>\n",
       "    </tr>\n",
       "  </thead>\n",
       "  <tbody>\n",
       "    <tr>\n",
       "      <th>0</th>\n",
       "      <td>0</td>\n",
       "      <td>0</td>\n",
       "      <td>0</td>\n",
       "      <td>0</td>\n",
       "      <td>0</td>\n",
       "      <td>0</td>\n",
       "      <td>0</td>\n",
       "      <td>0</td>\n",
       "      <td>0</td>\n",
       "      <td>0</td>\n",
       "      <td>...</td>\n",
       "      <td>0</td>\n",
       "      <td>0</td>\n",
       "      <td>0</td>\n",
       "      <td>0</td>\n",
       "      <td>0</td>\n",
       "      <td>1</td>\n",
       "      <td>1</td>\n",
       "      <td>0</td>\n",
       "      <td>0</td>\n",
       "      <td>0</td>\n",
       "    </tr>\n",
       "    <tr>\n",
       "      <th>1</th>\n",
       "      <td>0</td>\n",
       "      <td>0</td>\n",
       "      <td>0</td>\n",
       "      <td>0</td>\n",
       "      <td>0</td>\n",
       "      <td>0</td>\n",
       "      <td>0</td>\n",
       "      <td>0</td>\n",
       "      <td>0</td>\n",
       "      <td>0</td>\n",
       "      <td>...</td>\n",
       "      <td>0</td>\n",
       "      <td>0</td>\n",
       "      <td>0</td>\n",
       "      <td>0</td>\n",
       "      <td>0</td>\n",
       "      <td>0</td>\n",
       "      <td>0</td>\n",
       "      <td>0</td>\n",
       "      <td>0</td>\n",
       "      <td>0</td>\n",
       "    </tr>\n",
       "    <tr>\n",
       "      <th>2</th>\n",
       "      <td>0</td>\n",
       "      <td>0</td>\n",
       "      <td>0</td>\n",
       "      <td>0</td>\n",
       "      <td>0</td>\n",
       "      <td>0</td>\n",
       "      <td>0</td>\n",
       "      <td>0</td>\n",
       "      <td>0</td>\n",
       "      <td>0</td>\n",
       "      <td>...</td>\n",
       "      <td>0</td>\n",
       "      <td>0</td>\n",
       "      <td>0</td>\n",
       "      <td>0</td>\n",
       "      <td>0</td>\n",
       "      <td>1</td>\n",
       "      <td>1</td>\n",
       "      <td>0</td>\n",
       "      <td>0</td>\n",
       "      <td>0</td>\n",
       "    </tr>\n",
       "    <tr>\n",
       "      <th>3</th>\n",
       "      <td>0</td>\n",
       "      <td>0</td>\n",
       "      <td>0</td>\n",
       "      <td>0</td>\n",
       "      <td>0</td>\n",
       "      <td>0</td>\n",
       "      <td>0</td>\n",
       "      <td>0</td>\n",
       "      <td>0</td>\n",
       "      <td>0</td>\n",
       "      <td>...</td>\n",
       "      <td>0</td>\n",
       "      <td>0</td>\n",
       "      <td>0</td>\n",
       "      <td>0</td>\n",
       "      <td>0</td>\n",
       "      <td>0</td>\n",
       "      <td>0</td>\n",
       "      <td>0</td>\n",
       "      <td>0</td>\n",
       "      <td>0</td>\n",
       "    </tr>\n",
       "    <tr>\n",
       "      <th>4</th>\n",
       "      <td>0</td>\n",
       "      <td>0</td>\n",
       "      <td>0</td>\n",
       "      <td>0</td>\n",
       "      <td>0</td>\n",
       "      <td>0</td>\n",
       "      <td>0</td>\n",
       "      <td>0</td>\n",
       "      <td>0</td>\n",
       "      <td>0</td>\n",
       "      <td>...</td>\n",
       "      <td>0</td>\n",
       "      <td>0</td>\n",
       "      <td>0</td>\n",
       "      <td>0</td>\n",
       "      <td>0</td>\n",
       "      <td>0</td>\n",
       "      <td>0</td>\n",
       "      <td>0</td>\n",
       "      <td>0</td>\n",
       "      <td>0</td>\n",
       "    </tr>\n",
       "    <tr>\n",
       "      <th>...</th>\n",
       "      <td>...</td>\n",
       "      <td>...</td>\n",
       "      <td>...</td>\n",
       "      <td>...</td>\n",
       "      <td>...</td>\n",
       "      <td>...</td>\n",
       "      <td>...</td>\n",
       "      <td>...</td>\n",
       "      <td>...</td>\n",
       "      <td>...</td>\n",
       "      <td>...</td>\n",
       "      <td>...</td>\n",
       "      <td>...</td>\n",
       "      <td>...</td>\n",
       "      <td>...</td>\n",
       "      <td>...</td>\n",
       "      <td>...</td>\n",
       "      <td>...</td>\n",
       "      <td>...</td>\n",
       "      <td>...</td>\n",
       "      <td>...</td>\n",
       "    </tr>\n",
       "    <tr>\n",
       "      <th>4570</th>\n",
       "      <td>0</td>\n",
       "      <td>0</td>\n",
       "      <td>0</td>\n",
       "      <td>0</td>\n",
       "      <td>0</td>\n",
       "      <td>0</td>\n",
       "      <td>0</td>\n",
       "      <td>0</td>\n",
       "      <td>0</td>\n",
       "      <td>0</td>\n",
       "      <td>...</td>\n",
       "      <td>0</td>\n",
       "      <td>0</td>\n",
       "      <td>0</td>\n",
       "      <td>0</td>\n",
       "      <td>0</td>\n",
       "      <td>0</td>\n",
       "      <td>0</td>\n",
       "      <td>0</td>\n",
       "      <td>0</td>\n",
       "      <td>0</td>\n",
       "    </tr>\n",
       "    <tr>\n",
       "      <th>4571</th>\n",
       "      <td>0</td>\n",
       "      <td>0</td>\n",
       "      <td>0</td>\n",
       "      <td>0</td>\n",
       "      <td>0</td>\n",
       "      <td>0</td>\n",
       "      <td>0</td>\n",
       "      <td>0</td>\n",
       "      <td>0</td>\n",
       "      <td>0</td>\n",
       "      <td>...</td>\n",
       "      <td>0</td>\n",
       "      <td>0</td>\n",
       "      <td>0</td>\n",
       "      <td>0</td>\n",
       "      <td>0</td>\n",
       "      <td>1</td>\n",
       "      <td>1</td>\n",
       "      <td>0</td>\n",
       "      <td>0</td>\n",
       "      <td>0</td>\n",
       "    </tr>\n",
       "    <tr>\n",
       "      <th>4572</th>\n",
       "      <td>1</td>\n",
       "      <td>0</td>\n",
       "      <td>0</td>\n",
       "      <td>0</td>\n",
       "      <td>0</td>\n",
       "      <td>0</td>\n",
       "      <td>0</td>\n",
       "      <td>0</td>\n",
       "      <td>0</td>\n",
       "      <td>0</td>\n",
       "      <td>...</td>\n",
       "      <td>0</td>\n",
       "      <td>0</td>\n",
       "      <td>0</td>\n",
       "      <td>0</td>\n",
       "      <td>0</td>\n",
       "      <td>1</td>\n",
       "      <td>1</td>\n",
       "      <td>0</td>\n",
       "      <td>0</td>\n",
       "      <td>0</td>\n",
       "    </tr>\n",
       "    <tr>\n",
       "      <th>4573</th>\n",
       "      <td>0</td>\n",
       "      <td>0</td>\n",
       "      <td>0</td>\n",
       "      <td>0</td>\n",
       "      <td>0</td>\n",
       "      <td>0</td>\n",
       "      <td>0</td>\n",
       "      <td>0</td>\n",
       "      <td>0</td>\n",
       "      <td>0</td>\n",
       "      <td>...</td>\n",
       "      <td>0</td>\n",
       "      <td>0</td>\n",
       "      <td>0</td>\n",
       "      <td>0</td>\n",
       "      <td>0</td>\n",
       "      <td>1</td>\n",
       "      <td>1</td>\n",
       "      <td>0</td>\n",
       "      <td>0</td>\n",
       "      <td>0</td>\n",
       "    </tr>\n",
       "    <tr>\n",
       "      <th>4574</th>\n",
       "      <td>0</td>\n",
       "      <td>0</td>\n",
       "      <td>0</td>\n",
       "      <td>0</td>\n",
       "      <td>0</td>\n",
       "      <td>0</td>\n",
       "      <td>0</td>\n",
       "      <td>0</td>\n",
       "      <td>0</td>\n",
       "      <td>0</td>\n",
       "      <td>...</td>\n",
       "      <td>0</td>\n",
       "      <td>0</td>\n",
       "      <td>0</td>\n",
       "      <td>0</td>\n",
       "      <td>0</td>\n",
       "      <td>1</td>\n",
       "      <td>1</td>\n",
       "      <td>0</td>\n",
       "      <td>0</td>\n",
       "      <td>0</td>\n",
       "    </tr>\n",
       "  </tbody>\n",
       "</table>\n",
       "<p>4575 rows × 1000 columns</p>\n",
       "</div>"
      ],
      "text/plain": [
       "      abort  abus  accept  access  account  accus  across  act  action  activ  \\\n",
       "0         0     0       0       0        0      0       0    0       0      0   \n",
       "1         0     0       0       0        0      0       0    0       0      0   \n",
       "2         0     0       0       0        0      0       0    0       0      0   \n",
       "3         0     0       0       0        0      0       0    0       0      0   \n",
       "4         0     0       0       0        0      0       0    0       0      0   \n",
       "...     ...   ...     ...     ...      ...    ...     ...  ...     ...    ...   \n",
       "4570      0     0       0       0        0      0       0    0       0      0   \n",
       "4571      0     0       0       0        0      0       0    0       0      0   \n",
       "4572      1     0       0       0        0      0       0    0       0      0   \n",
       "4573      0     0       0       0        0      0       0    0       0      0   \n",
       "4574      0     0       0       0        0      0       0    0       0      0   \n",
       "\n",
       "      ...  writer  wrong  year  year old  yemen  york  york time  young  \\\n",
       "0     ...       0      0     0         0      0     1          1      0   \n",
       "1     ...       0      0     0         0      0     0          0      0   \n",
       "2     ...       0      0     0         0      0     1          1      0   \n",
       "3     ...       0      0     0         0      0     0          0      0   \n",
       "4     ...       0      0     0         0      0     0          0      0   \n",
       "...   ...     ...    ...   ...       ...    ...   ...        ...    ...   \n",
       "4570  ...       0      0     0         0      0     0          0      0   \n",
       "4571  ...       0      0     0         0      0     1          1      0   \n",
       "4572  ...       0      0     0         0      0     1          1      0   \n",
       "4573  ...       0      0     0         0      0     1          1      0   \n",
       "4574  ...       0      0     0         0      0     1          1      0   \n",
       "\n",
       "      youtub  zika  \n",
       "0          0     0  \n",
       "1          0     0  \n",
       "2          0     0  \n",
       "3          0     0  \n",
       "4          0     0  \n",
       "...      ...   ...  \n",
       "4570       0     0  \n",
       "4571       0     0  \n",
       "4572       0     0  \n",
       "4573       0     0  \n",
       "4574       0     0  \n",
       "\n",
       "[4575 rows x 1000 columns]"
      ]
     },
     "execution_count": 42,
     "metadata": {},
     "output_type": "execute_result"
    }
   ],
   "source": [
    "dataframe_test"
   ]
  },
  {
   "cell_type": "code",
   "execution_count": 43,
   "id": "1794e95a",
   "metadata": {},
   "outputs": [],
   "source": [
    "y_pred_pac_test = PAC.predict(X_test)"
   ]
  },
  {
   "cell_type": "code",
   "execution_count": 44,
   "id": "5fae5051",
   "metadata": {},
   "outputs": [],
   "source": [
    "y_pred_svm_test = SVM.predict(X_test)"
   ]
  },
  {
   "cell_type": "code",
   "execution_count": 45,
   "id": "890e9521",
   "metadata": {},
   "outputs": [],
   "source": [
    "y_pred_mnb_test = MNB.predict(X_test)"
   ]
  },
  {
   "cell_type": "markdown",
   "id": "73cce261",
   "metadata": {},
   "source": [
    "### Calculating accuracies on test dataset"
   ]
  },
  {
   "cell_type": "code",
   "execution_count": 46,
   "id": "c3844a47",
   "metadata": {},
   "outputs": [
    {
     "name": "stdout",
     "output_type": "stream",
     "text": [
      "Accuracy:  0.6351912568306011\n",
      "Accuracy:  0.6500546448087432\n",
      "Accuracy:  0.7020765027322404\n"
     ]
    }
   ],
   "source": [
    "accuracy_pac = accuracy_score(y_test, y_pred_pac_test)\n",
    "print(\"Accuracy: \", accuracy_pac)\n",
    "accuracy_svm = accuracy_score(y_test, y_pred_svm_test)\n",
    "print(\"Accuracy: \", accuracy_svm)\n",
    "accuracy_mnb = accuracy_score(y_test, y_pred_mnb_test)\n",
    "print(\"Accuracy: \", accuracy_mnb)"
   ]
  },
  {
   "cell_type": "code",
   "execution_count": 47,
   "id": "842d87b5",
   "metadata": {},
   "outputs": [],
   "source": [
    "# scores for Passive Aggressive Classifier\n",
    "accuracy_pac = accuracy_score(y_test, y_pred_pac_test)\n",
    "precision_pac = precision_score(y_test, y_pred_pac_test)\n",
    "recall_pac = recall_score(y_test, y_pred_pac_test)\n",
    "f1_score_pac = f1_score(y_test, y_pred_pac_test)\n",
    "\n",
    "# scores for Support Vector Machine\n",
    "accuracy_svm = accuracy_score(y_test, y_pred_svm_test)\n",
    "precision_svm = precision_score(y_test, y_pred_svm_test)\n",
    "recall_svm = recall_score(y_test, y_pred_svm_test)\n",
    "f1_score_svm = f1_score(y_test, y_pred_svm_test)\n",
    "\n",
    "# scores for MultinomialNB\n",
    "accuracy_mnb = accuracy_score(y_test, y_pred_mnb_test)\n",
    "precision_mnb = precision_score(y_test, y_pred_mnb_test)\n",
    "recall_mnb = recall_score(y_test, y_pred_mnb_test)\n",
    "f1_score_mnb = f1_score(y_test, y_pred_mnb_test)"
   ]
  },
  {
   "cell_type": "code",
   "execution_count": 48,
   "id": "6e5d3924",
   "metadata": {},
   "outputs": [],
   "source": [
    "# Create a dataframe to store the scores\n",
    "scores1 = pd.DataFrame({\n",
    "    'Algorithm': ['PassiveAggressiveClassifier', 'LinearSVC', 'MultinomialNB'],\n",
    "    'Accuracy': [accuracy_pac, accuracy_svm, accuracy_mnb],\n",
    "    'Precision': [precision_pac, precision_svm, precision_mnb],\n",
    "    'Recall': [recall_pac, recall_svm, recall_mnb],\n",
    "    'F1-score': [f1_score_pac, f1_score_svm, f1_score_mnb]\n",
    "})"
   ]
  },
  {
   "cell_type": "code",
   "execution_count": 49,
   "id": "56931aa6",
   "metadata": {},
   "outputs": [
    {
     "data": {
      "text/html": [
       "<div>\n",
       "<style scoped>\n",
       "    .dataframe tbody tr th:only-of-type {\n",
       "        vertical-align: middle;\n",
       "    }\n",
       "\n",
       "    .dataframe tbody tr th {\n",
       "        vertical-align: top;\n",
       "    }\n",
       "\n",
       "    .dataframe thead th {\n",
       "        text-align: right;\n",
       "    }\n",
       "</style>\n",
       "<table border=\"1\" class=\"dataframe\">\n",
       "  <thead>\n",
       "    <tr style=\"text-align: right;\">\n",
       "      <th></th>\n",
       "      <th>Algorithm</th>\n",
       "      <th>Accuracy</th>\n",
       "      <th>Precision</th>\n",
       "      <th>Recall</th>\n",
       "      <th>F1-score</th>\n",
       "    </tr>\n",
       "  </thead>\n",
       "  <tbody>\n",
       "    <tr>\n",
       "      <th>0</th>\n",
       "      <td>PassiveAggressiveClassifier</td>\n",
       "      <td>0.635191</td>\n",
       "      <td>0.655590</td>\n",
       "      <td>0.618120</td>\n",
       "      <td>0.636304</td>\n",
       "    </tr>\n",
       "    <tr>\n",
       "      <th>1</th>\n",
       "      <td>LinearSVC</td>\n",
       "      <td>0.650055</td>\n",
       "      <td>0.645174</td>\n",
       "      <td>0.715919</td>\n",
       "      <td>0.678708</td>\n",
       "    </tr>\n",
       "    <tr>\n",
       "      <th>2</th>\n",
       "      <td>MultinomialNB</td>\n",
       "      <td>0.702077</td>\n",
       "      <td>0.708038</td>\n",
       "      <td>0.719729</td>\n",
       "      <td>0.713836</td>\n",
       "    </tr>\n",
       "  </tbody>\n",
       "</table>\n",
       "</div>"
      ],
      "text/plain": [
       "                     Algorithm  Accuracy  Precision    Recall  F1-score\n",
       "0  PassiveAggressiveClassifier  0.635191   0.655590  0.618120  0.636304\n",
       "1                    LinearSVC  0.650055   0.645174  0.715919  0.678708\n",
       "2                MultinomialNB  0.702077   0.708038  0.719729  0.713836"
      ]
     },
     "execution_count": 49,
     "metadata": {},
     "output_type": "execute_result"
    }
   ],
   "source": [
    "scores1"
   ]
  },
  {
   "cell_type": "code",
   "execution_count": 50,
   "id": "056f7fd3",
   "metadata": {},
   "outputs": [
    {
     "data": {
      "image/png": "[encoded data removed]",
      "text/plain": [
       "<Figure size 432x288 with 1 Axes>"
      ]
     },
     "metadata": {
      "needs_background": "light"
     },
     "output_type": "display_data"
    }
   ],
   "source": [
    "# Plot the scores\n",
    "plt1.figure()\n",
    "plt1.plot(scores1['Algorithm'], scores1['Accuracy'], label='Accuracy')\n",
    "plt1.plot(scores1['Algorithm'], scores1['Precision'], label='Precision')\n",
    "plt1.plot(scores1['Algorithm'], scores1['Recall'], label='Recall')\n",
    "plt1.plot(scores1['Algorithm'], scores1['F1-score'], label='F1-score')\n",
    "plt1.legend();\n",
    "plt1.savefig(\"performance_unseendata.png\")\n",
    "plt1.show()"
   ]
  },
  {
   "cell_type": "code",
   "execution_count": null,
   "id": "454cfe6e",
   "metadata": {},
   "outputs": [],
   "source": []
  },
  {
   "cell_type": "code",
   "execution_count": 62,
   "id": "727e241d",
   "metadata": {},
   "outputs": [
    {
     "data": {
      "image/png": "[encoded data removed]",
      "text/plain": [
       "<Figure size 432x288 with 1 Axes>"
      ]
     },
     "metadata": {
      "needs_background": "light"
     },
     "output_type": "display_data"
    }
   ],
   "source": [
    "import matplotlib.pyplot as plt\n",
    "\n",
    "# Data\n",
    "algorithms = ['Passive Aggressive', 'Linear SVM', 'Multinomial Naive Bayes']\n",
    "max_features = [1000, 2000, 3000, 4000, 5000]\n",
    "accuracy_data = [\n",
    "    [0.558033, 0.514973, 0.491803, 0.530710, 0.476721],\n",
    "    [0.650055, 0.490055, 0.483497, 0.519344, 0.478251],\n",
    "    [0.702077, 0.630601, 0.516940, 0.394317, 0.492678]\n",
    "]\n",
    "\n",
    "# Create a figure and axis\n",
    "fig, ax = plt.subplots(figsize=(6, 4))\n",
    "\n",
    "# Plot data for each algorithm\n",
    "for i, algorithm_data in enumerate(accuracy_data):\n",
    "    ax.plot(max_features, algorithm_data, marker='o', label=algorithms[i])\n",
    "\n",
    "# Set labels and title\n",
    "ax.set_xlabel('Max Features')\n",
    "ax.set_ylabel('Accuracy')\n",
    "ax.set_title('Accuracy on Unseen Data by Max Features')\n",
    "\n",
    "# Add a legend\n",
    "ax.legend()\n",
    "\n",
    "\n",
    "# Show the plot\n",
    "plt.grid()\n",
    "plt.savefig(\"performance_diff_features_plot.png\")\n",
    "plt.show()"
   ]
  },
  {
   "cell_type": "code",
   "execution_count": null,
   "id": "cce2f647",
   "metadata": {},
   "outputs": [],
   "source": []
  }
 ],
 "metadata": {
  "kernelspec": {
   "display_name": "Python 3 (ipykernel)",
   "language": "python",
   "name": "python3"
  },
  "language_info": {
   "codemirror_mode": {
    "name": "ipython",
    "version": 3
   },
   "file_extension": ".py",
   "mimetype": "text/x-python",
   "name": "python",
   "nbconvert_exporter": "python",
   "pygments_lexer": "ipython3",
   "version": "3.9.12"
  }
 },
 "nbformat": 4,
 "nbformat_minor": 5
}
